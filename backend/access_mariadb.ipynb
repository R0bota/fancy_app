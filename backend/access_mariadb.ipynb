{
 "cells": [
  {
   "cell_type": "code",
   "execution_count": 2,
   "metadata": {},
   "outputs": [
    {
     "name": "stdout",
     "output_type": "stream",
     "text": [
      "SELECT uhrzeit, datum, temp FROM temp WHERE datum BETWEEN %s AND %s\n",
      "      time        date  temperature\n",
      "0 23:00:00  2019-02-02         20.0\n",
      "1 23:00:00  2019-02-02         20.2\n",
      "2 19:22:47  2019-02-02         20.2\n",
      "3 19:29:54  2019-02-02         20.2\n",
      "4 19:31:04  2019-02-02         20.4\n",
      "DescribeResult(nobs=2379, minmax=(9.4, 22.1), mean=19.1817990752417, variance=4.4282682506131055, skewness=-1.8746296922574912, kurtosis=5.127920669290784)\n"
     ]
    },
    {
     "name": "stderr",
     "output_type": "stream",
     "text": [
      "C:\\Users\\Rober\\Anaconda3\\lib\\site-packages\\scipy\\stats\\stats.py:1713: FutureWarning: Using a non-tuple sequence for multidimensional indexing is deprecated; use `arr[tuple(seq)]` instead of `arr[seq]`. In the future this will be interpreted as an array index, `arr[np.array(seq)]`, which will result either in an error or a different result.\n",
      "  return np.add.reduce(sorted[indexer] * weights, axis=axis) / sumval\n"
     ]
    },
    {
     "data": {
      "text/plain": [
       "<matplotlib.axes._subplots.AxesSubplot at 0x1846d0a1c18>"
      ]
     },
     "execution_count": 2,
     "metadata": {},
     "output_type": "execute_result"
    },
    {
     "data": {
      "image/png": "[encoded data removed]",
      "text/plain": [
       "<Figure size 432x288 with 1 Axes>"
      ]
     },
     "metadata": {
      "needs_background": "light"
     },
     "output_type": "display_data"
    }
   ],
   "source": [
    "#import libraries\n",
    "import mysql.connector\n",
    "import datetime\n",
    "import pandas as pd\n",
    "import seaborn as sb\n",
    "import scipy as sc\n",
    "import matplotlib.pyplot as plt\n",
    "\n",
    "%matplotlib inline\n",
    "\n",
    "# connection to mysql DB on raspberry pi\n",
    "cnx = mysql.connector.connect(user = 'extern', password = 'raspberry', host = '192.168.0.10', \n",
    "                              database = 'sensor', port = '3306')\n",
    "cursor = cnx.cursor()\n",
    "\n",
    "# mysql query\n",
    "write_query = (\"INSERT INTO temp \" \"(uhrzeit, datum, temp, text)\" \"VALUES (%s, %s, %s, %s)\")\n",
    "read_query = (\"SELECT uhrzeit, datum, temp FROM temp \" \"WHERE datum BETWEEN %s AND %s\")\n",
    "print(read_query)\n",
    "\n",
    "# date limits for query which data to read\n",
    "end   = datetime.date.today()\n",
    "start = end - datetime.timedelta(days = 1)\n",
    "\n",
    "# execute query\n",
    "cursor.execute(read_query, (start, end))\n",
    "results = cursor.fetchall()\n",
    "\n",
    "# convert to data frame\n",
    "results = pd.DataFrame(results)\n",
    "results.columns = ['time', 'date', 'temperature']\n",
    "\n",
    "results['date'] = results['date'].apply(lambda x: str(x))\n",
    "results['temperature'] = results['temperature'].apply(lambda x: pd.to_numeric(x))\n",
    "print(results.head(n = 5))\n",
    "\n",
    "# statistics\n",
    "print(sc.stats.describe(pd.to_numeric(results['temperature'])))\n",
    "\n",
    "# plotting\n",
    "#sb.lineplot(data = pd.to_numeric(results['temperature']))\n",
    "sb.lineplot(x = 'date', y = 'temperature', data = results, color = 'mediumvioletred')\n",
    "\n",
    "\n",
    "# write to database\n",
    "#data = (datetime.now().time(), datetime.now().date() , '9000', 'heh')\n",
    "#cursor.execute(write_query, data))\n",
    "# Make sure data is committed to the database\n",
    "#cnx.commit()\n",
    "# disconnect from database\n",
    "#cursor.close()\n",
    "#cnx.close()\n",
    "            "
   ]
  }
 ],
 "metadata": {
  "kernelspec": {
   "display_name": "Python 3",
   "language": "python",
   "name": "python3"
  },
  "language_info": {
   "codemirror_mode": {
    "name": "ipython",
    "version": 3
   },
   "file_extension": ".py",
   "mimetype": "text/x-python",
   "name": "python",
   "nbconvert_exporter": "python",
   "pygments_lexer": "ipython3",
   "version": "3.7.0"
  }
 },
 "nbformat": 4,
 "nbformat_minor": 2
}
