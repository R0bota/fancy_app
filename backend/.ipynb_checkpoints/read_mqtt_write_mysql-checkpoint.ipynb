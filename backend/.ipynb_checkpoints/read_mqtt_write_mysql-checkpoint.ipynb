{
 "cells": [
  {
   "cell_type": "code",
   "execution_count": 4,
   "metadata": {},
   "outputs": [
    {
     "name": "stdout",
     "output_type": "stream",
     "text": [
      "19:21:23.708655\n",
      "1 day, 0:00:00\n"
     ]
    }
   ],
   "source": [
    "#import libraries\n",
    "import paho.mqtt.client as mqtt\n",
    "import mysql.connector\n",
    "from datetime import date, datetime\n",
    "\n",
    "# connection to mysql DB on raspberry pi\n",
    "cnx = mysql.connector.connect(user = 'pi', password = 'raspberry', host = 'localhost', database = 'sensor')\n",
    "cursor = cnx.cursor()\n",
    "\n",
    "# mysql query\n",
    "query = (\"INSERT INTO temp \" \"(uhrzeit, datum, temp, text)\" \"VALUES (%s, %s, %s, %s)\")\n",
    "print(query)\n",
    "\n",
    "# define callbacks\n",
    "# when connect\n",
    "def on_connect(client, userdata, flags, rc):\n",
    "    # subscribe\n",
    "    client.subscribe(topic = \"sensor/temp\")\n",
    "    # check connection\n",
    "    if rc == 0:\n",
    "        print(\"connection successful with code = \", rc)\n",
    "    else:\n",
    "        print(\"connection failed with error code = \", rc)\n",
    "        \n",
    "# when disconnect     \n",
    "def on_disconnect(client, userdata, rc):\n",
    "    print(\"disconnected from the broker\")\n",
    "    \n",
    "# when message arrives \n",
    "def on_message(client, userdata, message):\n",
    "    data = (datetime.now().time(), datetime.now().date() , message.payload.decode(), 'lalala')\n",
    "    print(data)\n",
    "    # Insert new employee\n",
    "    cursor.execute(query, data)\n",
    "    # Make sure data is committed to the database\n",
    "    cnx.commit()\n",
    "    \n",
    "# IP address and port of broker\n",
    "broker_address = \"192.168.0.10\"\n",
    "broker_port    = 1883\n",
    "\n",
    "print(\"IP:\" + broker_address)\n",
    "print(\"port:\" + str(broker_port))\n",
    "\n",
    "# create new instance\n",
    "client = mqtt.Client(client_id = \"roberto\")\n",
    "\n",
    "# assigning the object attribute to the callback function\n",
    "client.on_connect    = on_connect\n",
    "client.on_disconnect = on_disconnect\n",
    "client.on_message    = on_message\n",
    "\n",
    "# connect to broker\n",
    "client.connect(broker_address, broker_port)\n",
    "\n",
    "client.loop_forever()"
   ]
  }
 ],
 "metadata": {
  "kernelspec": {
   "display_name": "Python 3",
   "language": "python",
   "name": "python3"
  },
  "language_info": {
   "codemirror_mode": {
    "name": "ipython",
    "version": 3
   },
   "file_extension": ".py",
   "mimetype": "text/x-python",
   "name": "python",
   "nbconvert_exporter": "python",
   "pygments_lexer": "ipython3",
   "version": "3.7.0"
  }
 },
 "nbformat": 4,
 "nbformat_minor": 2
}
