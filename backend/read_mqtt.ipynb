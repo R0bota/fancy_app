{
 "cells": [
  {
   "cell_type": "code",
   "execution_count": 1,
   "metadata": {
    "scrolled": true
   },
   "outputs": [
    {
     "name": "stdout",
     "output_type": "stream",
     "text": [
      "IP:192.168.0.10\n",
      "port:1883\n",
      "connection successful with code =  0\n",
      "['20.80']\n",
      "['20.80', '20.90']\n",
      "['20.80', '20.90', '20.90']\n",
      "['20.80', '20.90', '20.90', '20.90']\n",
      "['20.80', '20.90', '20.90', '20.90', '20.90']\n",
      "disconnected from the broker\n"
     ]
    },
    {
     "data": {
      "text/plain": [
       "7"
      ]
     },
     "execution_count": 1,
     "metadata": {},
     "output_type": "execute_result"
    }
   ],
   "source": [
    "#import libraries\n",
    "import paho.mqtt.client as mqtt\n",
    "\n",
    "# define callbacks\n",
    "# when connect\n",
    "def on_connect(client, userdata, flags, rc):\n",
    "    # subscribe\n",
    "    client.subscribe(topic = \"sensor/temp\")\n",
    "    # check connection\n",
    "    if rc == 0:\n",
    "        print(\"connection successful with code = \", rc)\n",
    "    else:\n",
    "        print(\"connection failed with error code = \", rc)\n",
    "        \n",
    "# when disconnect     \n",
    "def on_disconnect(client, userdata, rc):\n",
    "    print(\"disconnected from the broker\")\n",
    "    \n",
    "# when message arrives \n",
    "def on_message(client, userdata, message):\n",
    "    #print(message.payload.decode())\n",
    "    #print(message.topic)\n",
    "    if len(temp) == 0:\n",
    "        temp.append(message.payload.decode())\n",
    "        print(temp)\n",
    "    else:\n",
    "        if len(temp) == 5:\n",
    "            client.disconnect()\n",
    "        else:\n",
    "            temp.extend([message.payload.decode()])\n",
    "            print(temp)\n",
    "\n",
    "# initialize data frame\n",
    "temp = []\n",
    "    \n",
    "# IP address and port of broker\n",
    "broker_address = \"192.168.0.10\"\n",
    "broker_port    = 1883\n",
    "\n",
    "print(\"IP:\" + broker_address)\n",
    "print(\"port:\" + str(broker_port))\n",
    "\n",
    "# create new instance\n",
    "client = mqtt.Client(client_id = \"roberto\")\n",
    "\n",
    "# assigning the object attribute to the callback function\n",
    "client.on_connect    = on_connect\n",
    "client.on_disconnect = on_disconnect\n",
    "client.on_message    = on_message\n",
    "\n",
    "# connect to broker\n",
    "client.connect(broker_address, broker_port)\n",
    "\n",
    "client.loop_forever()\n"
   ]
  }
 ],
 "metadata": {
  "kernelspec": {
   "display_name": "Python 3",
   "language": "python",
   "name": "python3"
  },
  "language_info": {
   "codemirror_mode": {
    "name": "ipython",
    "version": 3
   },
   "file_extension": ".py",
   "mimetype": "text/x-python",
   "name": "python",
   "nbconvert_exporter": "python",
   "pygments_lexer": "ipython3",
   "version": "3.7.0"
  }
 },
 "nbformat": 4,
 "nbformat_minor": 2
}
