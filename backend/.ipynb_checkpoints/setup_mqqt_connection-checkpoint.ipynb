{
 "cells": [
  {
   "cell_type": "code",
   "execution_count": null,
   "metadata": {},
   "outputs": [],
   "source": [
    "#import the client library\n",
    "import paho.mqtt.client as mqtt \n",
    "\n",
    "def on_connect(client):\n",
    "    if rc==0:\n",
    "        print(\"connected OK Returned code=\",rc)\n",
    "    else:\n",
    "        print(\"Bad connection Returned code=\",rc)\n",
    "\n",
    "# as soon as we have URL\n",
    "#broker_address=\"192.168.1.184\"\n",
    "# use external broker\n",
    "broker_address = \"iot.eclipse.org\"\n",
    "broker_address = \"broker.mqttdashboard.com\"\n",
    "print(broker_address)\n",
    "#create new instance\n",
    "client = mqtt.Client(\"P1\")\n",
    "#connect to broker\n",
    "client.on_connect=on_connect\n",
    "client.connect(broker_address)\n",
    "\n",
    "#Starting The Loop\n",
    "client.loop_start()\n",
    "\n",
    "#The code below will execute\n",
    "\n",
    "print(\"Testing if this line gets printed\")\n",
    "\n",
    "client.loop_stop()\n",
    "\n",
    "#publish\n",
    "#client.publish(\"house/main-light\",\"OFF\")\n",
    "#client.connect(“broker.mqttdashboard.com”, 1883)\n",
    "#temperature = read_from_imaginary_thermometer()\n",
    "#print(temperature)\n",
    "#client.subscribe(\"encyclopedia/#\", qos = 1)\n",
    "#client.publish(\"encyclopedia/temperature\", \"bla\", qos=1)\n",
    "#client.loop_stop()    #Stop loop \n",
    "#client.disconnect() # disconnect"
   ]
  },
  {
   "cell_type": "code",
   "execution_count": null,
   "metadata": {},
   "outputs": [],
   "source": [
    "import paho.mqtt.client as mqtt\n",
    "import time\n",
    "\n",
    "def on_message(client, userdata, message):\n",
    "    print(message.payload.decode())\n",
    "    print(message.topic)\n",
    "\n",
    "broker_address = \"192.168.0.10\"\n",
    "\n",
    "broker_portno = 1883\n",
    "client = mqtt.Client()\n",
    "\n",
    "client.connect(broker_address, broker_portno)\n",
    "\n",
    "client.publish(\"sensor_test\", \"ga\", qos=1)\n",
    "client.subscribe(\"sensor/temp\")\n",
    "\n",
    "client.on_message = on_message\n",
    "\n",
    "client.loop_forever()\n"
   ]
  }
 ],
 "metadata": {
  "kernelspec": {
   "display_name": "Python 3",
   "language": "python",
   "name": "python3"
  },
  "language_info": {
   "codemirror_mode": {
    "name": "ipython",
    "version": 3
   },
   "file_extension": ".py",
   "mimetype": "text/x-python",
   "name": "python",
   "nbconvert_exporter": "python",
   "pygments_lexer": "ipython3",
   "version": "3.7.0"
  }
 },
 "nbformat": 4,
 "nbformat_minor": 2
}
